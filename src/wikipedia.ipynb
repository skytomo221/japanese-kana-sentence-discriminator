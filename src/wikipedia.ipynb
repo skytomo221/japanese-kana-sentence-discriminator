{
 "cells": [
  {
   "cell_type": "code",
   "execution_count": 1,
   "source": [
    "import json\n",
    "import re\n",
    "\n",
    "def write_article(path, article):\n",
    "    title = article['title']\n",
    "    lines = re.split('[\\n。]', article['text'])\n",
    "    with open(path, 'a') as f:\n",
    "        for line in lines:\n",
    "            if re.match(r'^\\s*$', line) is None:\n",
    "                f.write(f'{line}\\n')\n",
    "\n",
    "with open('../data/corpus.data', 'r') as f:\n",
    "    for line in f.readlines():\n",
    "        article = json.loads(line)\n",
    "        write_article('../data/corpus.tsv', article)\n"
   ],
   "outputs": [],
   "metadata": {}
  }
 ],
 "metadata": {
  "orig_nbformat": 4,
  "language_info": {
   "name": "python",
   "version": "3.9.7",
   "mimetype": "text/x-python",
   "codemirror_mode": {
    "name": "ipython",
    "version": 3
   },
   "pygments_lexer": "ipython3",
   "nbconvert_exporter": "python",
   "file_extension": ".py"
  },
  "kernelspec": {
   "name": "python3",
   "display_name": "Python 3.9.7 64-bit ('base': conda)"
  },
  "interpreter": {
   "hash": "98b0a9b7b4eaaa670588a142fd0a9b87eaafe866f1db4228be72b4211d12040f"
  }
 },
 "nbformat": 4,
 "nbformat_minor": 2
}